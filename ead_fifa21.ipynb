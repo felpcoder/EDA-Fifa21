{
 "cells": [
  {
   "cell_type": "markdown",
   "metadata": {},
   "source": [
    "# Análise exploratória de dados do dataset \"FIFA21_official_data\"\n",
    "\n",
    "O objetivo dessa análise exploratória de dados é ler o dataset, processar os tipos de variáveis e checar alguns resultados."
   ]
  },
  {
   "cell_type": "code",
   "execution_count": 1,
   "metadata": {},
   "outputs": [],
   "source": [
    "# Pacotes necessários ao análise.\n",
    "import pandas as pd\n",
    "import numpy as np"
   ]
  },
  {
   "cell_type": "code",
   "execution_count": 2,
   "metadata": {},
   "outputs": [
    {
     "data": {
      "text/html": [
       "<div>\n",
       "<style scoped>\n",
       "    .dataframe tbody tr th:only-of-type {\n",
       "        vertical-align: middle;\n",
       "    }\n",
       "\n",
       "    .dataframe tbody tr th {\n",
       "        vertical-align: top;\n",
       "    }\n",
       "\n",
       "    .dataframe thead th {\n",
       "        text-align: right;\n",
       "    }\n",
       "</style>\n",
       "<table border=\"1\" class=\"dataframe\">\n",
       "  <thead>\n",
       "    <tr style=\"text-align: right;\">\n",
       "      <th></th>\n",
       "      <th>ID</th>\n",
       "      <th>Name</th>\n",
       "      <th>Age</th>\n",
       "      <th>Photo</th>\n",
       "      <th>Nationality</th>\n",
       "      <th>Flag</th>\n",
       "      <th>Overall</th>\n",
       "      <th>Potential</th>\n",
       "      <th>Club</th>\n",
       "      <th>Club Logo</th>\n",
       "      <th>...</th>\n",
       "      <th>SlidingTackle</th>\n",
       "      <th>GKDiving</th>\n",
       "      <th>GKHandling</th>\n",
       "      <th>GKKicking</th>\n",
       "      <th>GKPositioning</th>\n",
       "      <th>GKReflexes</th>\n",
       "      <th>Best Position</th>\n",
       "      <th>Best Overall Rating</th>\n",
       "      <th>Release Clause</th>\n",
       "      <th>DefensiveAwareness</th>\n",
       "    </tr>\n",
       "  </thead>\n",
       "  <tbody>\n",
       "    <tr>\n",
       "      <th>0</th>\n",
       "      <td>176580</td>\n",
       "      <td>L. Suárez</td>\n",
       "      <td>33</td>\n",
       "      <td>https://cdn.sofifa.com/players/176/580/20_60.png</td>\n",
       "      <td>Uruguay</td>\n",
       "      <td>https://cdn.sofifa.com/flags/uy.png</td>\n",
       "      <td>87</td>\n",
       "      <td>87</td>\n",
       "      <td>Atlético Madrid</td>\n",
       "      <td>https://cdn.sofifa.com/teams/240/light_30.png</td>\n",
       "      <td>...</td>\n",
       "      <td>38.0</td>\n",
       "      <td>27.0</td>\n",
       "      <td>25.0</td>\n",
       "      <td>31.0</td>\n",
       "      <td>33.0</td>\n",
       "      <td>37.0</td>\n",
       "      <td>ST</td>\n",
       "      <td>87.0</td>\n",
       "      <td>€64.6M</td>\n",
       "      <td>57.0</td>\n",
       "    </tr>\n",
       "    <tr>\n",
       "      <th>1</th>\n",
       "      <td>192985</td>\n",
       "      <td>K. De Bruyne</td>\n",
       "      <td>29</td>\n",
       "      <td>https://cdn.sofifa.com/players/192/985/20_60.png</td>\n",
       "      <td>Belgium</td>\n",
       "      <td>https://cdn.sofifa.com/flags/be.png</td>\n",
       "      <td>91</td>\n",
       "      <td>91</td>\n",
       "      <td>Manchester City</td>\n",
       "      <td>https://cdn.sofifa.com/teams/10/light_30.png</td>\n",
       "      <td>...</td>\n",
       "      <td>53.0</td>\n",
       "      <td>15.0</td>\n",
       "      <td>13.0</td>\n",
       "      <td>5.0</td>\n",
       "      <td>10.0</td>\n",
       "      <td>13.0</td>\n",
       "      <td>CAM</td>\n",
       "      <td>91.0</td>\n",
       "      <td>€161M</td>\n",
       "      <td>68.0</td>\n",
       "    </tr>\n",
       "    <tr>\n",
       "      <th>2</th>\n",
       "      <td>212198</td>\n",
       "      <td>Bruno Fernandes</td>\n",
       "      <td>25</td>\n",
       "      <td>https://cdn.sofifa.com/players/212/198/20_60.png</td>\n",
       "      <td>Portugal</td>\n",
       "      <td>https://cdn.sofifa.com/flags/pt.png</td>\n",
       "      <td>87</td>\n",
       "      <td>90</td>\n",
       "      <td>Manchester United</td>\n",
       "      <td>https://cdn.sofifa.com/teams/11/light_30.png</td>\n",
       "      <td>...</td>\n",
       "      <td>55.0</td>\n",
       "      <td>12.0</td>\n",
       "      <td>14.0</td>\n",
       "      <td>15.0</td>\n",
       "      <td>8.0</td>\n",
       "      <td>14.0</td>\n",
       "      <td>CAM</td>\n",
       "      <td>88.0</td>\n",
       "      <td>€124.4M</td>\n",
       "      <td>72.0</td>\n",
       "    </tr>\n",
       "    <tr>\n",
       "      <th>3</th>\n",
       "      <td>194765</td>\n",
       "      <td>A. Griezmann</td>\n",
       "      <td>29</td>\n",
       "      <td>https://cdn.sofifa.com/players/194/765/20_60.png</td>\n",
       "      <td>France</td>\n",
       "      <td>https://cdn.sofifa.com/flags/fr.png</td>\n",
       "      <td>87</td>\n",
       "      <td>87</td>\n",
       "      <td>FC Barcelona</td>\n",
       "      <td>https://cdn.sofifa.com/teams/241/light_30.png</td>\n",
       "      <td>...</td>\n",
       "      <td>49.0</td>\n",
       "      <td>14.0</td>\n",
       "      <td>8.0</td>\n",
       "      <td>14.0</td>\n",
       "      <td>13.0</td>\n",
       "      <td>14.0</td>\n",
       "      <td>ST</td>\n",
       "      <td>87.0</td>\n",
       "      <td>€103.5M</td>\n",
       "      <td>59.0</td>\n",
       "    </tr>\n",
       "    <tr>\n",
       "      <th>4</th>\n",
       "      <td>224334</td>\n",
       "      <td>M. Acuña</td>\n",
       "      <td>28</td>\n",
       "      <td>https://cdn.sofifa.com/players/224/334/20_60.png</td>\n",
       "      <td>Argentina</td>\n",
       "      <td>https://cdn.sofifa.com/flags/ar.png</td>\n",
       "      <td>83</td>\n",
       "      <td>83</td>\n",
       "      <td>Sevilla FC</td>\n",
       "      <td>https://cdn.sofifa.com/teams/481/light_30.png</td>\n",
       "      <td>...</td>\n",
       "      <td>79.0</td>\n",
       "      <td>8.0</td>\n",
       "      <td>14.0</td>\n",
       "      <td>13.0</td>\n",
       "      <td>13.0</td>\n",
       "      <td>14.0</td>\n",
       "      <td>LB</td>\n",
       "      <td>83.0</td>\n",
       "      <td>€46.2M</td>\n",
       "      <td>79.0</td>\n",
       "    </tr>\n",
       "  </tbody>\n",
       "</table>\n",
       "<p>5 rows × 65 columns</p>\n",
       "</div>"
      ],
      "text/plain": [
       "       ID              Name  Age  \\\n",
       "0  176580         L. Suárez   33   \n",
       "1  192985      K. De Bruyne   29   \n",
       "2  212198   Bruno Fernandes   25   \n",
       "3  194765      A. Griezmann   29   \n",
       "4  224334          M. Acuña   28   \n",
       "\n",
       "                                              Photo Nationality  \\\n",
       "0  https://cdn.sofifa.com/players/176/580/20_60.png     Uruguay   \n",
       "1  https://cdn.sofifa.com/players/192/985/20_60.png     Belgium   \n",
       "2  https://cdn.sofifa.com/players/212/198/20_60.png    Portugal   \n",
       "3  https://cdn.sofifa.com/players/194/765/20_60.png      France   \n",
       "4  https://cdn.sofifa.com/players/224/334/20_60.png   Argentina   \n",
       "\n",
       "                                  Flag  Overall  Potential               Club  \\\n",
       "0  https://cdn.sofifa.com/flags/uy.png       87         87    Atlético Madrid   \n",
       "1  https://cdn.sofifa.com/flags/be.png       91         91    Manchester City   \n",
       "2  https://cdn.sofifa.com/flags/pt.png       87         90  Manchester United   \n",
       "3  https://cdn.sofifa.com/flags/fr.png       87         87       FC Barcelona   \n",
       "4  https://cdn.sofifa.com/flags/ar.png       83         83         Sevilla FC   \n",
       "\n",
       "                                       Club Logo  ... SlidingTackle GKDiving  \\\n",
       "0  https://cdn.sofifa.com/teams/240/light_30.png  ...          38.0     27.0   \n",
       "1   https://cdn.sofifa.com/teams/10/light_30.png  ...          53.0     15.0   \n",
       "2   https://cdn.sofifa.com/teams/11/light_30.png  ...          55.0     12.0   \n",
       "3  https://cdn.sofifa.com/teams/241/light_30.png  ...          49.0     14.0   \n",
       "4  https://cdn.sofifa.com/teams/481/light_30.png  ...          79.0      8.0   \n",
       "\n",
       "   GKHandling GKKicking  GKPositioning  GKReflexes  Best Position  \\\n",
       "0        25.0      31.0           33.0        37.0             ST   \n",
       "1        13.0       5.0           10.0        13.0            CAM   \n",
       "2        14.0      15.0            8.0        14.0            CAM   \n",
       "3         8.0      14.0           13.0        14.0             ST   \n",
       "4        14.0      13.0           13.0        14.0             LB   \n",
       "\n",
       "  Best Overall Rating Release Clause DefensiveAwareness  \n",
       "0                87.0         €64.6M               57.0  \n",
       "1                91.0          €161M               68.0  \n",
       "2                88.0        €124.4M               72.0  \n",
       "3                87.0        €103.5M               59.0  \n",
       "4                83.0         €46.2M               79.0  \n",
       "\n",
       "[5 rows x 65 columns]"
      ]
     },
     "execution_count": 2,
     "metadata": {},
     "output_type": "execute_result"
    }
   ],
   "source": [
    "# Lendo e visualizando as primeiras linhas do dataset.\n",
    "df = pd.read_csv('FIFA21_official_data.csv')\n",
    "df.head()"
   ]
  },
  {
   "cell_type": "markdown",
   "metadata": {
    "scrolled": true
   },
   "source": [
    "Código para checar os nomes, tipos de dados, se contém valores nulos de todas as colunas e o tamanho do dataset. \n"
   ]
  },
  {
   "cell_type": "code",
   "execution_count": 3,
   "metadata": {},
   "outputs": [
    {
     "name": "stdout",
     "output_type": "stream",
     "text": [
      "<class 'pandas.core.frame.DataFrame'>\n",
      "RangeIndex: 17108 entries, 0 to 17107\n",
      "Data columns (total 65 columns):\n",
      " #   Column                    Non-Null Count  Dtype  \n",
      "---  ------                    --------------  -----  \n",
      " 0   ID                        17108 non-null  int64  \n",
      " 1   Name                      17108 non-null  object \n",
      " 2   Age                       17108 non-null  int64  \n",
      " 3   Photo                     17108 non-null  object \n",
      " 4   Nationality               17108 non-null  object \n",
      " 5   Flag                      17108 non-null  object \n",
      " 6   Overall                   17108 non-null  int64  \n",
      " 7   Potential                 17108 non-null  int64  \n",
      " 8   Club                      16783 non-null  object \n",
      " 9   Club Logo                 17108 non-null  object \n",
      " 10  Value                     17108 non-null  object \n",
      " 11  Wage                      17108 non-null  object \n",
      " 12  Special                   17108 non-null  int64  \n",
      " 13  Preferred Foot            17108 non-null  object \n",
      " 14  International Reputation  17108 non-null  float64\n",
      " 15  Weak Foot                 17108 non-null  float64\n",
      " 16  Skill Moves               17108 non-null  float64\n",
      " 17  Work Rate                 17108 non-null  object \n",
      " 18  Body Type                 17083 non-null  object \n",
      " 19  Real Face                 17083 non-null  object \n",
      " 20  Position                  17088 non-null  object \n",
      " 21  Jersey Number             17088 non-null  float64\n",
      " 22  Joined                    15659 non-null  object \n",
      " 23  Loaned From               922 non-null    object \n",
      " 24  Contract Valid Until      16612 non-null  object \n",
      " 25  Height                    17108 non-null  object \n",
      " 26  Weight                    17108 non-null  object \n",
      " 27  Crossing                  17108 non-null  float64\n",
      " 28  Finishing                 17108 non-null  float64\n",
      " 29  HeadingAccuracy           17108 non-null  float64\n",
      " 30  ShortPassing              17108 non-null  float64\n",
      " 31  Volleys                   17069 non-null  float64\n",
      " 32  Dribbling                 17108 non-null  float64\n",
      " 33  Curve                     17069 non-null  float64\n",
      " 34  FKAccuracy                17108 non-null  float64\n",
      " 35  LongPassing               17108 non-null  float64\n",
      " 36  BallControl               17108 non-null  float64\n",
      " 37  Acceleration              17108 non-null  float64\n",
      " 38  SprintSpeed               17108 non-null  float64\n",
      " 39  Agility                   17069 non-null  float64\n",
      " 40  Reactions                 17108 non-null  float64\n",
      " 41  Balance                   17069 non-null  float64\n",
      " 42  ShotPower                 17108 non-null  float64\n",
      " 43  Jumping                   17069 non-null  float64\n",
      " 44  Stamina                   17108 non-null  float64\n",
      " 45  Strength                  17108 non-null  float64\n",
      " 46  LongShots                 17108 non-null  float64\n",
      " 47  Aggression                17108 non-null  float64\n",
      " 48  Interceptions             17105 non-null  float64\n",
      " 49  Positioning               17105 non-null  float64\n",
      " 50  Vision                    17069 non-null  float64\n",
      " 51  Penalties                 17108 non-null  float64\n",
      " 52  Composure                 16821 non-null  float64\n",
      " 53  Marking                   942 non-null    float64\n",
      " 54  StandingTackle            17108 non-null  float64\n",
      " 55  SlidingTackle             17069 non-null  float64\n",
      " 56  GKDiving                  17108 non-null  float64\n",
      " 57  GKHandling                17108 non-null  float64\n",
      " 58  GKKicking                 17108 non-null  float64\n",
      " 59  GKPositioning             17108 non-null  float64\n",
      " 60  GKReflexes                17108 non-null  float64\n",
      " 61  Best Position             17108 non-null  object \n",
      " 62  Best Overall Rating       17108 non-null  float64\n",
      " 63  Release Clause            15479 non-null  object \n",
      " 64  DefensiveAwareness        16166 non-null  float64\n",
      "dtypes: float64(40), int64(5), object(20)\n",
      "memory usage: 8.5+ MB\n"
     ]
    }
   ],
   "source": [
    "df.info()"
   ]
  },
  {
   "cell_type": "markdown",
   "metadata": {},
   "source": [
    "Removemos do dataset as colunas 'ID', 'Photo', 'Flag', 'Club Logo', 'Real Face'; pois não trazem informações úteis."
   ]
  },
  {
   "cell_type": "code",
   "execution_count": 4,
   "metadata": {},
   "outputs": [],
   "source": [
    "df = df.drop(columns=['ID',\n",
    "                      'Photo',\n",
    "                      'Flag',\n",
    "                      'Club Logo',\n",
    "                      'Real Face', ])"
   ]
  },
  {
   "cell_type": "markdown",
   "metadata": {},
   "source": [
    "Temos as colunas 'Wage', 'Value', 'Release_Clause' que a informações principal é um valor em dinheiro, mas que estão como strings, vamos transformar para float."
   ]
  },
  {
   "cell_type": "code",
   "execution_count": 5,
   "metadata": {},
   "outputs": [
    {
     "data": {
      "text/plain": [
       "0        €115K\n",
       "1        €370K\n",
       "2        €195K\n",
       "3        €290K\n",
       "4         €41K\n",
       "         ...  \n",
       "17103     €500\n",
       "17104     €500\n",
       "17105     €500\n",
       "17106     €500\n",
       "17107     €500\n",
       "Name: Wage, Length: 17108, dtype: object"
      ]
     },
     "execution_count": 5,
     "metadata": {},
     "output_type": "execute_result"
    }
   ],
   "source": [
    "df['Wage']"
   ]
  },
  {
   "cell_type": "markdown",
   "metadata": {},
   "source": [
    "Olhando os dados, vemos que alguns valores estão em milhares de euros e outros, estão em unidades de euro. Vamos mudar todos os valores para milhares de euros. E transformar o tipo de dado para float."
   ]
  },
  {
   "cell_type": "code",
   "execution_count": 6,
   "metadata": {},
   "outputs": [],
   "source": [
    "# Tira o primeiro caracterer, '€', de cada item da tabela.\n",
    "df['Wage'] = df.Wage.replace('€', '',regex=True)"
   ]
  },
  {
   "cell_type": "code",
   "execution_count": 7,
   "metadata": {},
   "outputs": [],
   "source": [
    "# Transformar os valores em unidades de euro para milhares de euro.\n",
    "df['Wage'] = [float(wage)/1000 if wage[-1]!='K' else wage for wage in df['Wage']]"
   ]
  },
  {
   "cell_type": "code",
   "execution_count": 8,
   "metadata": {},
   "outputs": [],
   "source": [
    "# Tira o último caracterer, 'K', de cada item da tabela.\n",
    "df['Wage'] = df.Wage.replace('K', '',regex=True).astype(float)"
   ]
  },
  {
   "cell_type": "code",
   "execution_count": 9,
   "metadata": {},
   "outputs": [
    {
     "data": {
      "text/plain": [
       "0        115.0\n",
       "1        370.0\n",
       "2        195.0\n",
       "3        290.0\n",
       "4         41.0\n",
       "         ...  \n",
       "17103      0.5\n",
       "17104      0.5\n",
       "17105      0.5\n",
       "17106      0.5\n",
       "17107      0.5\n",
       "Name: Wage, Length: 17108, dtype: float64"
      ]
     },
     "execution_count": 9,
     "metadata": {},
     "output_type": "execute_result"
    }
   ],
   "source": [
    "df['Wage']"
   ]
  },
  {
   "cell_type": "markdown",
   "metadata": {},
   "source": [
    "Na coluna 'Value', existem valores em milhões de euros e em milhares de euros. Vamos colocar todos na mesma escala e transformar o tipo de dado para float."
   ]
  },
  {
   "cell_type": "code",
   "execution_count": 10,
   "metadata": {},
   "outputs": [
    {
     "data": {
      "text/plain": [
       "0        €31.5M\n",
       "1          €87M\n",
       "2          €63M\n",
       "3        €50.5M\n",
       "4          €22M\n",
       "          ...  \n",
       "17103      €50K\n",
       "17104      €50K\n",
       "17105      €60K\n",
       "17106      €50K\n",
       "17107      €50K\n",
       "Name: Value, Length: 17108, dtype: object"
      ]
     },
     "execution_count": 10,
     "metadata": {},
     "output_type": "execute_result"
    }
   ],
   "source": [
    "df['Value']"
   ]
  },
  {
   "cell_type": "code",
   "execution_count": 11,
   "metadata": {},
   "outputs": [],
   "source": [
    "# Tira o primeiro caracterer, '€', de cada item da tabela.\n",
    "df['Value'] = df.Value.replace('€','',regex=True)"
   ]
  },
  {
   "cell_type": "code",
   "execution_count": 12,
   "metadata": {},
   "outputs": [],
   "source": [
    "# Transformar os valores de milhares de euros para milhões de euros.\n",
    "df['Value'] = [float(value[:-1])/1000 if value[-1]=='K' else value for value in df['Value']]"
   ]
  },
  {
   "cell_type": "code",
   "execution_count": 13,
   "metadata": {},
   "outputs": [],
   "source": [
    "# Tira o útimo caractere, 'M', dos items da tabela que estavam em milhões de euro e transformar para float.\n",
    "df['Value'] = df.Value.replace('M','',regex=True).astype(float)"
   ]
  },
  {
   "cell_type": "code",
   "execution_count": 14,
   "metadata": {},
   "outputs": [
    {
     "data": {
      "text/plain": [
       "0        31.50\n",
       "1        87.00\n",
       "2        63.00\n",
       "3        50.50\n",
       "4        22.00\n",
       "         ...  \n",
       "17103     0.05\n",
       "17104     0.05\n",
       "17105     0.06\n",
       "17106     0.05\n",
       "17107     0.05\n",
       "Name: Value, Length: 17108, dtype: float64"
      ]
     },
     "execution_count": 14,
     "metadata": {},
     "output_type": "execute_result"
    }
   ],
   "source": [
    "df['Value']"
   ]
  },
  {
   "cell_type": "markdown",
   "metadata": {},
   "source": [
    "Com a coluna 'Release Clause' que representa o valor de quebra de contrato temos a mesma situação anterior, entretanto temos também valores do tipo 'nan'. Note que se um jogador não tem clausula de quebra de contrato, então podemos preencher com o valor 0."
   ]
  },
  {
   "cell_type": "code",
   "execution_count": 15,
   "metadata": {},
   "outputs": [
    {
     "data": {
      "text/plain": [
       "0         €64.6M\n",
       "1          €161M\n",
       "2        €124.4M\n",
       "3        €103.5M\n",
       "4         €46.2M\n",
       "          ...   \n",
       "17103      €120K\n",
       "17104       €83K\n",
       "17105      €149K\n",
       "17106       €94K\n",
       "17107      €109K\n",
       "Name: Release Clause, Length: 17108, dtype: object"
      ]
     },
     "execution_count": 15,
     "metadata": {},
     "output_type": "execute_result"
    }
   ],
   "source": [
    "df['Release Clause']"
   ]
  },
  {
   "cell_type": "code",
   "execution_count": 16,
   "metadata": {},
   "outputs": [],
   "source": [
    "# Aqui renomearemos a nossa coluna para não ficar o espaço vazio.\n",
    "df.rename(columns={'Release Clause': 'Release_Clause'}, inplace = True)"
   ]
  },
  {
   "cell_type": "code",
   "execution_count": 17,
   "metadata": {},
   "outputs": [],
   "source": [
    "# Se o valor de um item na coluna 'Release Clause', preencher com valores 0.\n",
    "df['Release_Clause'] = ['0' if pd.isna(clause) else clause for clause in df['Release_Clause']]"
   ]
  },
  {
   "cell_type": "code",
   "execution_count": 18,
   "metadata": {},
   "outputs": [],
   "source": [
    "# Tira o primeiro caracterer, '€', de cada item da tabela.\n",
    "df['Release_Clause'] = df.Release_Clause.replace('€','', regex=True)"
   ]
  },
  {
   "cell_type": "code",
   "execution_count": 19,
   "metadata": {},
   "outputs": [],
   "source": [
    "# Transformar os valores em milhares de euros para valores em milhões de euros.\n",
    "df['Release_Clause'] = [ (float(clause[0:-1])/1000) if clause[-1] == 'K' else clause for clause in df['Release_Clause']]"
   ]
  },
  {
   "cell_type": "code",
   "execution_count": 20,
   "metadata": {},
   "outputs": [],
   "source": [
    "df['Release_Clause'] = df.Release_Clause.replace('M','', regex=True).astype(float)"
   ]
  },
  {
   "cell_type": "code",
   "execution_count": 21,
   "metadata": {},
   "outputs": [
    {
     "data": {
      "text/plain": [
       "0         64.600\n",
       "1        161.000\n",
       "2        124.400\n",
       "3        103.500\n",
       "4         46.200\n",
       "          ...   \n",
       "17103      0.120\n",
       "17104      0.083\n",
       "17105      0.149\n",
       "17106      0.094\n",
       "17107      0.109\n",
       "Name: Release_Clause, Length: 17108, dtype: float64"
      ]
     },
     "execution_count": 21,
     "metadata": {},
     "output_type": "execute_result"
    }
   ],
   "source": [
    "df['Release_Clause']"
   ]
  },
  {
   "cell_type": "markdown",
   "metadata": {},
   "source": [
    "Como pode ser visto a seguir, a coluna 'Height', possui informações de alturas medidas em pés e polegadas. Vamos transformar essa informação para metros através da função trans_height(height) e mudar o tipo de objeto para float. "
   ]
  },
  {
   "cell_type": "code",
   "execution_count": 22,
   "metadata": {},
   "outputs": [
    {
     "data": {
      "text/plain": [
       "0         6'0\n",
       "1        5'11\n",
       "2        5'10\n",
       "3         5'9\n",
       "4         5'8\n",
       "         ... \n",
       "17103     6'4\n",
       "17104     6'5\n",
       "17105     6'3\n",
       "17106     6'1\n",
       "17107     6'0\n",
       "Name: Height, Length: 17108, dtype: object"
      ]
     },
     "execution_count": 22,
     "metadata": {},
     "output_type": "execute_result"
    }
   ],
   "source": [
    "df['Height']"
   ]
  },
  {
   "cell_type": "code",
   "execution_count": 23,
   "metadata": {},
   "outputs": [],
   "source": [
    "# Função que transforma a altura de polegadas e pés para metros.\n",
    "def trans_height(height):\n",
    "    b = int(height.split(\"'\")[0])\n",
    "    c = int(height.split(\"'\")[1])\n",
    "    total = b*12 + c\n",
    "    metros = total * 0.0254\n",
    "    metros = round(metros,2)\n",
    "    return metros"
   ]
  },
  {
   "cell_type": "code",
   "execution_count": 24,
   "metadata": {},
   "outputs": [],
   "source": [
    "# Aplicamos a função para cada item da coluna 'Height'\n",
    "df['Height'] = [trans_height(height) for height in df['Height']]"
   ]
  },
  {
   "cell_type": "code",
   "execution_count": 25,
   "metadata": {},
   "outputs": [
    {
     "data": {
      "text/plain": [
       "0        1.83\n",
       "1        1.80\n",
       "2        1.78\n",
       "3        1.75\n",
       "4        1.73\n",
       "         ... \n",
       "17103    1.93\n",
       "17104    1.96\n",
       "17105    1.91\n",
       "17106    1.85\n",
       "17107    1.83\n",
       "Name: Height, Length: 17108, dtype: float64"
      ]
     },
     "execution_count": 25,
     "metadata": {},
     "output_type": "execute_result"
    }
   ],
   "source": [
    "df['Height'] "
   ]
  },
  {
   "cell_type": "markdown",
   "metadata": {},
   "source": [
    "Da mesma forma que anteriormente, a coluna 'Weight' possui os valores em libras e objetos do tipo string. Vamos transformar os valores para quilograma e o tipo do objeto para int, através da função 'trans_Weight(weight)'."
   ]
  },
  {
   "cell_type": "code",
   "execution_count": 26,
   "metadata": {},
   "outputs": [
    {
     "data": {
      "text/plain": [
       "0        190lbs\n",
       "1        154lbs\n",
       "2        152lbs\n",
       "3        161lbs\n",
       "4        152lbs\n",
       "          ...  \n",
       "17103    176lbs\n",
       "17104    187lbs\n",
       "17105    176lbs\n",
       "17106    168lbs\n",
       "17107    172lbs\n",
       "Name: Weight, Length: 17108, dtype: object"
      ]
     },
     "execution_count": 26,
     "metadata": {},
     "output_type": "execute_result"
    }
   ],
   "source": [
    "df['Weight']"
   ]
  },
  {
   "cell_type": "code",
   "execution_count": 27,
   "metadata": {},
   "outputs": [],
   "source": [
    "# Função que transforma libras para quilogramas.\n",
    "def trans_Weight(weight):\n",
    "    weight = int(weight[0:-3])\n",
    "    weight = 0.453592*weight\n",
    "    return round(weight)"
   ]
  },
  {
   "cell_type": "code",
   "execution_count": 28,
   "metadata": {},
   "outputs": [],
   "source": [
    "# Aplicamos a função para cada valor da coluna 'Weight'.\n",
    "df['Weight'] = [trans_Weight(weight) for weight in df['Weight']]"
   ]
  },
  {
   "cell_type": "code",
   "execution_count": 29,
   "metadata": {},
   "outputs": [
    {
     "data": {
      "text/plain": [
       "0        86\n",
       "1        70\n",
       "2        69\n",
       "3        73\n",
       "4        69\n",
       "         ..\n",
       "17103    80\n",
       "17104    85\n",
       "17105    80\n",
       "17106    76\n",
       "17107    78\n",
       "Name: Weight, Length: 17108, dtype: int64"
      ]
     },
     "execution_count": 29,
     "metadata": {},
     "output_type": "execute_result"
    }
   ],
   "source": [
    "df['Weight']"
   ]
  },
  {
   "cell_type": "markdown",
   "metadata": {},
   "source": [
    "Os dados da coluna 'Position', estão bugados no dataset. Entretanto após olhar os valores vemos que as informações estão contida nas duas ou três letras finais de cada item da tabela. Assim vamos eliminar o resto e deixar o valor que queremos. Por exemplo, o primeiro valor '< span class=\"pos pos24\">RS' será transformado em 'RS' e o segundo valor '< span class=\"pos pos13\">RCM', transformado em 'RCM'."
   ]
  },
  {
   "cell_type": "code",
   "execution_count": 30,
   "metadata": {},
   "outputs": [
    {
     "data": {
      "text/plain": [
       "0         <span class=\"pos pos24\">RS\n",
       "1        <span class=\"pos pos13\">RCM\n",
       "2        <span class=\"pos pos18\">CAM\n",
       "3         <span class=\"pos pos23\">RW\n",
       "4          <span class=\"pos pos7\">LB\n",
       "                    ...             \n",
       "17103    <span class=\"pos pos29\">RES\n",
       "17104    <span class=\"pos pos29\">RES\n",
       "17105    <span class=\"pos pos29\">RES\n",
       "17106    <span class=\"pos pos28\">SUB\n",
       "17107    <span class=\"pos pos29\">RES\n",
       "Name: Position, Length: 17108, dtype: object"
      ]
     },
     "execution_count": 30,
     "metadata": {},
     "output_type": "execute_result"
    }
   ],
   "source": [
    "df['Position']"
   ]
  },
  {
   "cell_type": "code",
   "execution_count": 31,
   "metadata": {},
   "outputs": [],
   "source": [
    "# Precisamos atribuir a palavra 'nan' onde não temos valores para conseguirmos rodar o próximo loop.\n",
    "df['Position'] = ['nan' if pd.isna(position) else position for position in df['Position']]"
   ]
  },
  {
   "cell_type": "code",
   "execution_count": 32,
   "metadata": {},
   "outputs": [],
   "source": [
    "# Pegamos as três ultimas letras de cada item da tabela 'Position'.\n",
    "df['Position'] = [position[-3:] for position in df['Position']]"
   ]
  },
  {
   "cell_type": "code",
   "execution_count": 33,
   "metadata": {},
   "outputs": [],
   "source": [
    "# Caso o item que queremos tenha apenas duas letras, igual o primeiro exemplo, a antepenúltima letra será '<', que\n",
    "# será removida.\n",
    "df['Position'] = df.Position.replace('>','',regex=True)"
   ]
  },
  {
   "cell_type": "code",
   "execution_count": 34,
   "metadata": {},
   "outputs": [
    {
     "data": {
      "text/plain": [
       "0         RS\n",
       "1        RCM\n",
       "2        CAM\n",
       "3         RW\n",
       "4         LB\n",
       "        ... \n",
       "17103    RES\n",
       "17104    RES\n",
       "17105    RES\n",
       "17106    SUB\n",
       "17107    RES\n",
       "Name: Position, Length: 17108, dtype: object"
      ]
     },
     "execution_count": 34,
     "metadata": {},
     "output_type": "execute_result"
    }
   ],
   "source": [
    "df['Position']"
   ]
  },
  {
   "cell_type": "markdown",
   "metadata": {},
   "source": [
    "Na coluna 'Joined' e 'Contract Valid Until', temos informações de datas mas o valor de cada item é uma string. A data está no formato Mês dia, Ano; sendo que o Mês está abreviado com as três primeiras letras.  Vamos transformar cada item das tabelas para um objeto datetime no formato Ano-Mês-dia. "
   ]
  },
  {
   "cell_type": "code",
   "execution_count": 35,
   "metadata": {},
   "outputs": [
    {
     "data": {
      "text/plain": [
       "0        Sep 25, 2020\n",
       "1        Aug 30, 2015\n",
       "2        Jan 30, 2020\n",
       "3        Jul 12, 2019\n",
       "4        Sep 14, 2020\n",
       "             ...     \n",
       "17103     Mar 2, 2018\n",
       "17104     Jul 1, 2019\n",
       "17105     Jul 1, 2019\n",
       "17106    Mar 31, 2019\n",
       "17107     Jul 1, 2018\n",
       "Name: Joined, Length: 17108, dtype: object"
      ]
     },
     "execution_count": 35,
     "metadata": {},
     "output_type": "execute_result"
    }
   ],
   "source": [
    "df['Joined']"
   ]
  },
  {
   "cell_type": "markdown",
   "metadata": {},
   "source": [
    "Inicialmente transformaremos o valor do mês, para um valor numérico. Faremos isso utilizando o dicionário 'dic_mm' e a list compreension abaixo."
   ]
  },
  {
   "cell_type": "code",
   "execution_count": 36,
   "metadata": {},
   "outputs": [],
   "source": [
    "dic_mm = {'Jan':'1', 'Feb':'2', 'Mar':'3','Apr':'4','May':'5', 'Jun': '6', 'Jul':'7', 'Aug':'8','Sep':'9','Oct':'10','Nov':'11','Dec':'12' }\n",
    "df['Joined'] = [dic_mm[join[:3]]+ join[3:] if pd.isna(join)==False else join for join in df['Joined']]"
   ]
  },
  {
   "cell_type": "code",
   "execution_count": 37,
   "metadata": {},
   "outputs": [],
   "source": [
    "# Substituímos os espaços vazios ' ', por '/'. \n",
    "df['Joined'] = df.Joined.replace(' ', '/', regex=True)"
   ]
  },
  {
   "cell_type": "code",
   "execution_count": 38,
   "metadata": {},
   "outputs": [],
   "source": [
    "# Em seguida, removemos ',' de cada item da coluna 'Joined'.\n",
    "df['Joined'] = df.Joined.replace(',', '', regex=True)"
   ]
  },
  {
   "cell_type": "code",
   "execution_count": 39,
   "metadata": {},
   "outputs": [],
   "source": [
    "# Por fim, mudamos o tipo de data de string para datetime. \n",
    "df['Joined'] = [join if pd.isna(join) else pd.to_datetime(join) for join in df['Joined']]"
   ]
  },
  {
   "cell_type": "code",
   "execution_count": 40,
   "metadata": {},
   "outputs": [
    {
     "data": {
      "text/plain": [
       "0       2020-09-25\n",
       "1       2015-08-30\n",
       "2       2020-01-30\n",
       "3       2019-07-12\n",
       "4       2020-09-14\n",
       "           ...    \n",
       "17103   2018-03-02\n",
       "17104   2019-07-01\n",
       "17105   2019-07-01\n",
       "17106   2019-03-31\n",
       "17107   2018-07-01\n",
       "Name: Joined, Length: 17108, dtype: datetime64[ns]"
      ]
     },
     "execution_count": 40,
     "metadata": {},
     "output_type": "execute_result"
    }
   ],
   "source": [
    "df['Joined']"
   ]
  },
  {
   "cell_type": "markdown",
   "metadata": {},
   "source": [
    "Analogamente transformamos cada item cada coluna 'Contract Valid Until' de string para datetime. Como o formato da data é apenas Anos, basta aplica a função 'pd.to_datime'."
   ]
  },
  {
   "cell_type": "code",
   "execution_count": 41,
   "metadata": {},
   "outputs": [
    {
     "data": {
      "text/plain": [
       "0        2022\n",
       "1        2023\n",
       "2        2025\n",
       "3        2024\n",
       "4        2024\n",
       "         ... \n",
       "17103    2021\n",
       "17104    2022\n",
       "17105    2021\n",
       "17106    2022\n",
       "17107    2020\n",
       "Name: Contract Valid Until, Length: 17108, dtype: object"
      ]
     },
     "execution_count": 41,
     "metadata": {},
     "output_type": "execute_result"
    }
   ],
   "source": [
    "df['Contract Valid Until']"
   ]
  },
  {
   "cell_type": "code",
   "execution_count": 42,
   "metadata": {},
   "outputs": [],
   "source": [
    "# Transformar o tipo do objeto de string para datetime.\n",
    "df['Contract Valid Until'] = [until if pd.isna(until) else pd.to_datetime(until) for until in df['Contract Valid Until']]"
   ]
  },
  {
   "cell_type": "code",
   "execution_count": 43,
   "metadata": {},
   "outputs": [
    {
     "data": {
      "text/plain": [
       "0       2022-01-01\n",
       "1       2023-01-01\n",
       "2       2025-01-01\n",
       "3       2024-01-01\n",
       "4       2024-01-01\n",
       "           ...    \n",
       "17103   2021-01-01\n",
       "17104   2022-01-01\n",
       "17105   2021-01-01\n",
       "17106   2022-01-01\n",
       "17107   2020-01-01\n",
       "Name: Contract Valid Until, Length: 17108, dtype: datetime64[ns]"
      ]
     },
     "execution_count": 43,
     "metadata": {},
     "output_type": "execute_result"
    }
   ],
   "source": [
    "df['Contract Valid Until']"
   ]
  },
  {
   "cell_type": "markdown",
   "metadata": {},
   "source": [
    "# Obtendo informações do dataset. "
   ]
  },
  {
   "cell_type": "markdown",
   "metadata": {},
   "source": [
    "Nessa segunda parte da análise, iremos obter algumas informações simples sobre o dataset."
   ]
  },
  {
   "cell_type": "markdown",
   "metadata": {},
   "source": [
    "A primeira coisa que queremos saber é a média do Overall dos jogadores por time. O Overall indica o quanto um jogador é bom. Assim, quanto melhor o jogador maior o Overall. É esperado que o melhor time tenha a melhor média de Overall. "
   ]
  },
  {
   "cell_type": "code",
   "execution_count": 44,
   "metadata": {},
   "outputs": [],
   "source": [
    "# Criamos um novo dataset com as colunas 'Club' e 'Overall'.\n",
    "club_over = df.filter(['Club', 'Overall'])"
   ]
  },
  {
   "cell_type": "code",
   "execution_count": 45,
   "metadata": {},
   "outputs": [],
   "source": [
    "# Agrupamos o overall por time, tiramos a média e ordenamos os valores do menor para o maior.\n",
    "club_over_mean = club_over.groupby('Club').mean().sort_values(by='Overall')"
   ]
  },
  {
   "cell_type": "code",
   "execution_count": 46,
   "metadata": {},
   "outputs": [
    {
     "data": {
      "text/html": [
       "<div>\n",
       "<style scoped>\n",
       "    .dataframe tbody tr th:only-of-type {\n",
       "        vertical-align: middle;\n",
       "    }\n",
       "\n",
       "    .dataframe tbody tr th {\n",
       "        vertical-align: top;\n",
       "    }\n",
       "\n",
       "    .dataframe thead th {\n",
       "        text-align: right;\n",
       "    }\n",
       "</style>\n",
       "<table border=\"1\" class=\"dataframe\">\n",
       "  <thead>\n",
       "    <tr style=\"text-align: right;\">\n",
       "      <th></th>\n",
       "      <th>Overall</th>\n",
       "    </tr>\n",
       "    <tr>\n",
       "      <th>Club</th>\n",
       "      <th></th>\n",
       "    </tr>\n",
       "  </thead>\n",
       "  <tbody>\n",
       "    <tr>\n",
       "      <th>Flamengo</th>\n",
       "      <td>76.428571</td>\n",
       "    </tr>\n",
       "    <tr>\n",
       "      <th>Palermo</th>\n",
       "      <td>76.500000</td>\n",
       "    </tr>\n",
       "    <tr>\n",
       "      <th>Palmeiras</th>\n",
       "      <td>76.500000</td>\n",
       "    </tr>\n",
       "    <tr>\n",
       "      <th>Liverpool</th>\n",
       "      <td>76.589744</td>\n",
       "    </tr>\n",
       "    <tr>\n",
       "      <th>Paris Saint-Germain</th>\n",
       "      <td>76.945946</td>\n",
       "    </tr>\n",
       "    <tr>\n",
       "      <th>Changchun Yatai FC</th>\n",
       "      <td>77.000000</td>\n",
       "    </tr>\n",
       "    <tr>\n",
       "      <th>Corinthians</th>\n",
       "      <td>77.000000</td>\n",
       "    </tr>\n",
       "    <tr>\n",
       "      <th>FC Barcelona</th>\n",
       "      <td>77.097561</td>\n",
       "    </tr>\n",
       "    <tr>\n",
       "      <th>Juventus</th>\n",
       "      <td>77.195122</td>\n",
       "    </tr>\n",
       "    <tr>\n",
       "      <th>Inter</th>\n",
       "      <td>77.325000</td>\n",
       "    </tr>\n",
       "    <tr>\n",
       "      <th>Real Madrid</th>\n",
       "      <td>78.968750</td>\n",
       "    </tr>\n",
       "    <tr>\n",
       "      <th>Siena</th>\n",
       "      <td>79.000000</td>\n",
       "    </tr>\n",
       "    <tr>\n",
       "      <th>FC Anzhi Makhachkala</th>\n",
       "      <td>79.000000</td>\n",
       "    </tr>\n",
       "    <tr>\n",
       "      <th>FC Bayern München</th>\n",
       "      <td>81.461538</td>\n",
       "    </tr>\n",
       "    <tr>\n",
       "      <th>111648</th>\n",
       "      <td>86.666667</td>\n",
       "    </tr>\n",
       "  </tbody>\n",
       "</table>\n",
       "</div>"
      ],
      "text/plain": [
       "                        Overall\n",
       "Club                           \n",
       "Flamengo              76.428571\n",
       "Palermo               76.500000\n",
       "Palmeiras             76.500000\n",
       "Liverpool             76.589744\n",
       "Paris Saint-Germain   76.945946\n",
       "Changchun Yatai FC    77.000000\n",
       "Corinthians           77.000000\n",
       "FC Barcelona          77.097561\n",
       "Juventus              77.195122\n",
       "Inter                 77.325000\n",
       "Real Madrid           78.968750\n",
       "Siena                 79.000000\n",
       "FC Anzhi Makhachkala  79.000000\n",
       "FC Bayern München     81.461538\n",
       "111648                86.666667"
      ]
     },
     "execution_count": 46,
     "metadata": {},
     "output_type": "execute_result"
    }
   ],
   "source": [
    "# Aqui vemos os 15 times com a melhor média de overall por jogadores. \n",
    "club_over_mean[-15:]"
   ]
  },
  {
   "cell_type": "markdown",
   "metadata": {},
   "source": [
    "Note que temos um time chamado '111648' como o time com a maior média de overall por jogador. Após pesquisa na internet chegamos a conclusão que é um time fictício criado para armazenar jogadores fictícios o código abaixo confirma que só temos 3 jogadores no time. "
   ]
  },
  {
   "cell_type": "code",
   "execution_count": 47,
   "metadata": {},
   "outputs": [
    {
     "name": "stdout",
     "output_type": "stream",
     "text": [
      " 09 H. de Noteboom\n",
      " 09 B. Ronhaar\n",
      " 09 J. Maatje\n"
     ]
    }
   ],
   "source": [
    "j=0\n",
    "for i in df['Club']:\n",
    "    if i=='111648':\n",
    "        print(df['Name'][j])\n",
    "    j+=1"
   ]
  },
  {
   "cell_type": "markdown",
   "metadata": {},
   "source": [
    "Assim, vemos que o time com a melhor média é o FC Bayern München, ganhador da champions 2019/2020. "
   ]
  },
  {
   "cell_type": "markdown",
   "metadata": {},
   "source": [
    "Agora, iremos analisar o valor de um time com base no valor dos jogadores deste time."
   ]
  },
  {
   "cell_type": "code",
   "execution_count": 48,
   "metadata": {},
   "outputs": [],
   "source": [
    "# Criamos um dataframe com as colunas 'Club' e 'Value'.\n",
    "club_value = df.filter(['Club', 'Value'])"
   ]
  },
  {
   "cell_type": "code",
   "execution_count": 49,
   "metadata": {},
   "outputs": [],
   "source": [
    "# Agrupos e ordenamos a soma dos valores dos jogadores por time.\n",
    "club_value_sort = club_value.groupby('Club').sum('Value').sort_values(by='Value')"
   ]
  },
  {
   "cell_type": "code",
   "execution_count": 50,
   "metadata": {},
   "outputs": [
    {
     "data": {
      "text/html": [
       "<div>\n",
       "<style scoped>\n",
       "    .dataframe tbody tr th:only-of-type {\n",
       "        vertical-align: middle;\n",
       "    }\n",
       "\n",
       "    .dataframe tbody tr th {\n",
       "        vertical-align: top;\n",
       "    }\n",
       "\n",
       "    .dataframe thead th {\n",
       "        text-align: right;\n",
       "    }\n",
       "</style>\n",
       "<table border=\"1\" class=\"dataframe\">\n",
       "  <thead>\n",
       "    <tr style=\"text-align: right;\">\n",
       "      <th></th>\n",
       "      <th>Value</th>\n",
       "    </tr>\n",
       "    <tr>\n",
       "      <th>Club</th>\n",
       "      <th></th>\n",
       "    </tr>\n",
       "  </thead>\n",
       "  <tbody>\n",
       "    <tr>\n",
       "      <th>Arsenal</th>\n",
       "      <td>436.435</td>\n",
       "    </tr>\n",
       "    <tr>\n",
       "      <th>Napoli</th>\n",
       "      <td>443.160</td>\n",
       "    </tr>\n",
       "    <tr>\n",
       "      <th>Borussia Dortmund</th>\n",
       "      <td>516.320</td>\n",
       "    </tr>\n",
       "    <tr>\n",
       "      <th>Inter</th>\n",
       "      <td>525.921</td>\n",
       "    </tr>\n",
       "    <tr>\n",
       "      <th>Manchester United</th>\n",
       "      <td>571.906</td>\n",
       "    </tr>\n",
       "    <tr>\n",
       "      <th>Tottenham Hotspur</th>\n",
       "      <td>583.025</td>\n",
       "    </tr>\n",
       "    <tr>\n",
       "      <th>Chelsea</th>\n",
       "      <td>611.285</td>\n",
       "    </tr>\n",
       "    <tr>\n",
       "      <th>Juventus</th>\n",
       "      <td>614.025</td>\n",
       "    </tr>\n",
       "    <tr>\n",
       "      <th>Atlético Madrid</th>\n",
       "      <td>619.750</td>\n",
       "    </tr>\n",
       "    <tr>\n",
       "      <th>FC Bayern München</th>\n",
       "      <td>644.850</td>\n",
       "    </tr>\n",
       "    <tr>\n",
       "      <th>Paris Saint-Germain</th>\n",
       "      <td>658.175</td>\n",
       "    </tr>\n",
       "    <tr>\n",
       "      <th>FC Barcelona</th>\n",
       "      <td>714.100</td>\n",
       "    </tr>\n",
       "    <tr>\n",
       "      <th>Real Madrid</th>\n",
       "      <td>736.730</td>\n",
       "    </tr>\n",
       "    <tr>\n",
       "      <th>Manchester City</th>\n",
       "      <td>764.850</td>\n",
       "    </tr>\n",
       "    <tr>\n",
       "      <th>Liverpool</th>\n",
       "      <td>852.435</td>\n",
       "    </tr>\n",
       "  </tbody>\n",
       "</table>\n",
       "</div>"
      ],
      "text/plain": [
       "                       Value\n",
       "Club                        \n",
       "Arsenal              436.435\n",
       "Napoli               443.160\n",
       "Borussia Dortmund    516.320\n",
       "Inter                525.921\n",
       "Manchester United    571.906\n",
       "Tottenham Hotspur    583.025\n",
       "Chelsea              611.285\n",
       "Juventus             614.025\n",
       "Atlético Madrid      619.750\n",
       "FC Bayern München    644.850\n",
       "Paris Saint-Germain  658.175\n",
       "FC Barcelona         714.100\n",
       "Real Madrid          736.730\n",
       "Manchester City      764.850\n",
       "Liverpool            852.435"
      ]
     },
     "execution_count": 50,
     "metadata": {},
     "output_type": "execute_result"
    }
   ],
   "source": [
    "# Aqui vemos os 15 times com o maior valor com base na soma do valor de cada jogador deste time.\n",
    "club_value_sort[-15:]"
   ]
  },
  {
   "cell_type": "markdown",
   "metadata": {},
   "source": [
    "Outra informação interessante é analisar qual jogador tem o maior salário. "
   ]
  },
  {
   "cell_type": "code",
   "execution_count": 51,
   "metadata": {},
   "outputs": [],
   "source": [
    "# Criamos um dataframe com as colunas 'Name' e 'Wage'.\n",
    "wage_player = df.filter(['Name','Wage'])"
   ]
  },
  {
   "cell_type": "code",
   "execution_count": 52,
   "metadata": {},
   "outputs": [],
   "source": [
    "# Ordenamos o valor dos salários.\n",
    "wage_player_sort = wage_player.sort_values(by='Wage')"
   ]
  },
  {
   "cell_type": "code",
   "execution_count": 53,
   "metadata": {},
   "outputs": [
    {
     "data": {
      "text/html": [
       "<div>\n",
       "<style scoped>\n",
       "    .dataframe tbody tr th:only-of-type {\n",
       "        vertical-align: middle;\n",
       "    }\n",
       "\n",
       "    .dataframe tbody tr th {\n",
       "        vertical-align: top;\n",
       "    }\n",
       "\n",
       "    .dataframe thead th {\n",
       "        text-align: right;\n",
       "    }\n",
       "</style>\n",
       "<table border=\"1\" class=\"dataframe\">\n",
       "  <thead>\n",
       "    <tr style=\"text-align: right;\">\n",
       "      <th></th>\n",
       "      <th>Name</th>\n",
       "      <th>Wage</th>\n",
       "    </tr>\n",
       "  </thead>\n",
       "  <tbody>\n",
       "    <tr>\n",
       "      <th>38</th>\n",
       "      <td>S. Mané</td>\n",
       "      <td>250.0</td>\n",
       "    </tr>\n",
       "    <tr>\n",
       "      <th>31</th>\n",
       "      <td>M. Salah</td>\n",
       "      <td>250.0</td>\n",
       "    </tr>\n",
       "    <tr>\n",
       "      <th>13</th>\n",
       "      <td>L. Modrić</td>\n",
       "      <td>260.0</td>\n",
       "    </tr>\n",
       "    <tr>\n",
       "      <th>13611</th>\n",
       "      <td>M. ter Stegen</td>\n",
       "      <td>260.0</td>\n",
       "    </tr>\n",
       "    <tr>\n",
       "      <th>208</th>\n",
       "      <td>R. Sterling</td>\n",
       "      <td>270.0</td>\n",
       "    </tr>\n",
       "    <tr>\n",
       "      <th>70</th>\n",
       "      <td>Neymar Jr</td>\n",
       "      <td>270.0</td>\n",
       "    </tr>\n",
       "    <tr>\n",
       "      <th>3</th>\n",
       "      <td>A. Griezmann</td>\n",
       "      <td>290.0</td>\n",
       "    </tr>\n",
       "    <tr>\n",
       "      <th>182</th>\n",
       "      <td>S. Agüero</td>\n",
       "      <td>300.0</td>\n",
       "    </tr>\n",
       "    <tr>\n",
       "      <th>11</th>\n",
       "      <td>Sergio Ramos</td>\n",
       "      <td>300.0</td>\n",
       "    </tr>\n",
       "    <tr>\n",
       "      <th>23</th>\n",
       "      <td>Casemiro</td>\n",
       "      <td>310.0</td>\n",
       "    </tr>\n",
       "    <tr>\n",
       "      <th>115</th>\n",
       "      <td>T. Kroos</td>\n",
       "      <td>310.0</td>\n",
       "    </tr>\n",
       "    <tr>\n",
       "      <th>209</th>\n",
       "      <td>K. Benzema</td>\n",
       "      <td>350.0</td>\n",
       "    </tr>\n",
       "    <tr>\n",
       "      <th>225</th>\n",
       "      <td>E. Hazard</td>\n",
       "      <td>350.0</td>\n",
       "    </tr>\n",
       "    <tr>\n",
       "      <th>1</th>\n",
       "      <td>K. De Bruyne</td>\n",
       "      <td>370.0</td>\n",
       "    </tr>\n",
       "    <tr>\n",
       "      <th>18</th>\n",
       "      <td>L. Messi</td>\n",
       "      <td>560.0</td>\n",
       "    </tr>\n",
       "  </tbody>\n",
       "</table>\n",
       "</div>"
      ],
      "text/plain": [
       "                 Name   Wage\n",
       "38            S. Mané  250.0\n",
       "31           M. Salah  250.0\n",
       "13          L. Modrić  260.0\n",
       "13611   M. ter Stegen  260.0\n",
       "208       R. Sterling  270.0\n",
       "70          Neymar Jr  270.0\n",
       "3        A. Griezmann  290.0\n",
       "182         S. Agüero  300.0\n",
       "11       Sergio Ramos  300.0\n",
       "23           Casemiro  310.0\n",
       "115          T. Kroos  310.0\n",
       "209        K. Benzema  350.0\n",
       "225         E. Hazard  350.0\n",
       "1        K. De Bruyne  370.0\n",
       "18           L. Messi  560.0"
      ]
     },
     "execution_count": 53,
     "metadata": {},
     "output_type": "execute_result"
    }
   ],
   "source": [
    "# Aqui vemos os 15 jogadores com maiores salários ordenados do menor para o maior.\n",
    "wage_player_sort[-15:]"
   ]
  },
  {
   "cell_type": "markdown",
   "metadata": {},
   "source": [
    "Da mesma forma, podemos obter quais são os jogadores com os maiores valores em milhões de euros para quebra de contrato."
   ]
  },
  {
   "cell_type": "code",
   "execution_count": 54,
   "metadata": {},
   "outputs": [],
   "source": [
    "release_clause = df.filter(['Name', 'Release_Clause'])"
   ]
  },
  {
   "cell_type": "code",
   "execution_count": 55,
   "metadata": {},
   "outputs": [],
   "source": [
    "release_clause_sort = release_clause.sort_values(by='Release_Clause')"
   ]
  },
  {
   "cell_type": "code",
   "execution_count": 56,
   "metadata": {},
   "outputs": [
    {
     "data": {
      "text/html": [
       "<div>\n",
       "<style scoped>\n",
       "    .dataframe tbody tr th:only-of-type {\n",
       "        vertical-align: middle;\n",
       "    }\n",
       "\n",
       "    .dataframe tbody tr th {\n",
       "        vertical-align: top;\n",
       "    }\n",
       "\n",
       "    .dataframe thead th {\n",
       "        text-align: right;\n",
       "    }\n",
       "</style>\n",
       "<table border=\"1\" class=\"dataframe\">\n",
       "  <thead>\n",
       "    <tr style=\"text-align: right;\">\n",
       "      <th></th>\n",
       "      <th>Name</th>\n",
       "      <th>Release_Clause</th>\n",
       "    </tr>\n",
       "  </thead>\n",
       "  <tbody>\n",
       "    <tr>\n",
       "      <th>109</th>\n",
       "      <td>P. Dybala</td>\n",
       "      <td>122.5</td>\n",
       "    </tr>\n",
       "    <tr>\n",
       "      <th>2</th>\n",
       "      <td>Bruno Fernandes</td>\n",
       "      <td>124.4</td>\n",
       "    </tr>\n",
       "    <tr>\n",
       "      <th>44</th>\n",
       "      <td>R. Lewandowski</td>\n",
       "      <td>132.0</td>\n",
       "    </tr>\n",
       "    <tr>\n",
       "      <th>1016</th>\n",
       "      <td>J. Sancho</td>\n",
       "      <td>132.1</td>\n",
       "    </tr>\n",
       "    <tr>\n",
       "      <th>18</th>\n",
       "      <td>L. Messi</td>\n",
       "      <td>138.4</td>\n",
       "    </tr>\n",
       "    <tr>\n",
       "      <th>208</th>\n",
       "      <td>R. Sterling</td>\n",
       "      <td>139.6</td>\n",
       "    </tr>\n",
       "    <tr>\n",
       "      <th>78</th>\n",
       "      <td>H. Kane</td>\n",
       "      <td>140.2</td>\n",
       "    </tr>\n",
       "    <tr>\n",
       "      <th>38</th>\n",
       "      <td>S. Mané</td>\n",
       "      <td>144.3</td>\n",
       "    </tr>\n",
       "    <tr>\n",
       "      <th>31</th>\n",
       "      <td>M. Salah</td>\n",
       "      <td>144.3</td>\n",
       "    </tr>\n",
       "    <tr>\n",
       "      <th>204</th>\n",
       "      <td>V. van Dijk</td>\n",
       "      <td>145.3</td>\n",
       "    </tr>\n",
       "    <tr>\n",
       "      <th>13611</th>\n",
       "      <td>M. ter Stegen</td>\n",
       "      <td>147.7</td>\n",
       "    </tr>\n",
       "    <tr>\n",
       "      <th>14060</th>\n",
       "      <td>J. Oblak</td>\n",
       "      <td>159.4</td>\n",
       "    </tr>\n",
       "    <tr>\n",
       "      <th>1</th>\n",
       "      <td>K. De Bruyne</td>\n",
       "      <td>161.0</td>\n",
       "    </tr>\n",
       "    <tr>\n",
       "      <th>70</th>\n",
       "      <td>Neymar Jr</td>\n",
       "      <td>166.5</td>\n",
       "    </tr>\n",
       "    <tr>\n",
       "      <th>122</th>\n",
       "      <td>K. Mbappé</td>\n",
       "      <td>203.1</td>\n",
       "    </tr>\n",
       "  </tbody>\n",
       "</table>\n",
       "</div>"
      ],
      "text/plain": [
       "                   Name  Release_Clause\n",
       "109           P. Dybala           122.5\n",
       "2       Bruno Fernandes           124.4\n",
       "44       R. Lewandowski           132.0\n",
       "1016          J. Sancho           132.1\n",
       "18             L. Messi           138.4\n",
       "208         R. Sterling           139.6\n",
       "78              H. Kane           140.2\n",
       "38              S. Mané           144.3\n",
       "31             M. Salah           144.3\n",
       "204         V. van Dijk           145.3\n",
       "13611     M. ter Stegen           147.7\n",
       "14060          J. Oblak           159.4\n",
       "1          K. De Bruyne           161.0\n",
       "70            Neymar Jr           166.5\n",
       "122           K. Mbappé           203.1"
      ]
     },
     "execution_count": 56,
     "metadata": {},
     "output_type": "execute_result"
    }
   ],
   "source": [
    "# Aqui vemos os 15 jogadores com maior valor de quebra de contrato, ordenado do menor para o maior.\n",
    "release_clause_sort[-15:]"
   ]
  },
  {
   "cell_type": "markdown",
   "metadata": {},
   "source": [
    "Vamos agora checar o tempo de contrato, em dias, para determinado jogador."
   ]
  },
  {
   "cell_type": "code",
   "execution_count": 57,
   "metadata": {},
   "outputs": [],
   "source": [
    "# Aqui criamos uma nova coluna no nosso dataset que indica o tempo do contrato de cada jogador em dias.\n",
    "df['Contract_days'] = df['Contract Valid Until'] - df['Joined']"
   ]
  },
  {
   "cell_type": "code",
   "execution_count": 58,
   "metadata": {},
   "outputs": [],
   "source": [
    "# Criamos um novo dataframe com as colunas 'Club', 'Name' e 'Contract_days'.\n",
    "contract = df.filter(['Club','Name','Contract_days'])"
   ]
  },
  {
   "cell_type": "code",
   "execution_count": 59,
   "metadata": {},
   "outputs": [
    {
     "data": {
      "text/html": [
       "<div>\n",
       "<style scoped>\n",
       "    .dataframe tbody tr th:only-of-type {\n",
       "        vertical-align: middle;\n",
       "    }\n",
       "\n",
       "    .dataframe tbody tr th {\n",
       "        vertical-align: top;\n",
       "    }\n",
       "\n",
       "    .dataframe thead th {\n",
       "        text-align: right;\n",
       "    }\n",
       "</style>\n",
       "<table border=\"1\" class=\"dataframe\">\n",
       "  <thead>\n",
       "    <tr style=\"text-align: right;\">\n",
       "      <th></th>\n",
       "      <th>Club</th>\n",
       "      <th>Name</th>\n",
       "      <th>Contract_days</th>\n",
       "    </tr>\n",
       "  </thead>\n",
       "  <tbody>\n",
       "    <tr>\n",
       "      <th>8712</th>\n",
       "      <td>Milton Keynes Dons</td>\n",
       "      <td>D. Lewington</td>\n",
       "      <td>6728 days</td>\n",
       "    </tr>\n",
       "    <tr>\n",
       "      <th>2798</th>\n",
       "      <td>Inter</td>\n",
       "      <td>14 J. Zanetti</td>\n",
       "      <td>6759 days</td>\n",
       "    </tr>\n",
       "    <tr>\n",
       "      <th>15720</th>\n",
       "      <td>Fenerbahçe SK</td>\n",
       "      <td>19 V. Demirel</td>\n",
       "      <td>7088 days</td>\n",
       "    </tr>\n",
       "    <tr>\n",
       "      <th>391</th>\n",
       "      <td>Manchester United</td>\n",
       "      <td>13 P. Scholes</td>\n",
       "      <td>7117 days</td>\n",
       "    </tr>\n",
       "    <tr>\n",
       "      <th>16295</th>\n",
       "      <td>BSC Young Boys</td>\n",
       "      <td>20 M. Wölfli</td>\n",
       "      <td>7123 days</td>\n",
       "    </tr>\n",
       "    <tr>\n",
       "      <th>6857</th>\n",
       "      <td>PFC CSKA Moscow</td>\n",
       "      <td>18 A. Berezutskiy</td>\n",
       "      <td>7124 days</td>\n",
       "    </tr>\n",
       "    <tr>\n",
       "      <th>3356</th>\n",
       "      <td>Gamba Osaka</td>\n",
       "      <td>Y. Endo</td>\n",
       "      <td>7304 days</td>\n",
       "    </tr>\n",
       "    <tr>\n",
       "      <th>15570</th>\n",
       "      <td>PFC CSKA Moscow</td>\n",
       "      <td>I. Akinfeev</td>\n",
       "      <td>7305 days</td>\n",
       "    </tr>\n",
       "    <tr>\n",
       "      <th>5209</th>\n",
       "      <td>Manchester United</td>\n",
       "      <td>11 G. Neville</td>\n",
       "      <td>7305 days</td>\n",
       "    </tr>\n",
       "    <tr>\n",
       "      <th>14444</th>\n",
       "      <td>Kaizer Chiefs</td>\n",
       "      <td>I. Khune</td>\n",
       "      <td>7489 days</td>\n",
       "    </tr>\n",
       "    <tr>\n",
       "      <th>229</th>\n",
       "      <td>FC Barcelona</td>\n",
       "      <td>15 Xavi</td>\n",
       "      <td>7854 days</td>\n",
       "    </tr>\n",
       "    <tr>\n",
       "      <th>9985</th>\n",
       "      <td>São Paulo</td>\n",
       "      <td>14 Rogério Ceni</td>\n",
       "      <td>8036 days</td>\n",
       "    </tr>\n",
       "    <tr>\n",
       "      <th>16618</th>\n",
       "      <td>Kashima Antlers</td>\n",
       "      <td>H. Sogahata</td>\n",
       "      <td>8401 days</td>\n",
       "    </tr>\n",
       "    <tr>\n",
       "      <th>1647</th>\n",
       "      <td>Manchester United</td>\n",
       "      <td>14 R. Giggs</td>\n",
       "      <td>8432 days</td>\n",
       "    </tr>\n",
       "    <tr>\n",
       "      <th>2841</th>\n",
       "      <td>Roma</td>\n",
       "      <td>17 F. Totti</td>\n",
       "      <td>8766 days</td>\n",
       "    </tr>\n",
       "  </tbody>\n",
       "</table>\n",
       "</div>"
      ],
      "text/plain": [
       "                     Club                Name Contract_days\n",
       "8712   Milton Keynes Dons        D. Lewington     6728 days\n",
       "2798                Inter       14 J. Zanetti     6759 days\n",
       "15720       Fenerbahçe SK       19 V. Demirel     7088 days\n",
       "391     Manchester United       13 P. Scholes     7117 days\n",
       "16295      BSC Young Boys        20 M. Wölfli     7123 days\n",
       "6857      PFC CSKA Moscow   18 A. Berezutskiy     7124 days\n",
       "3356          Gamba Osaka             Y. Endo     7304 days\n",
       "15570     PFC CSKA Moscow         I. Akinfeev     7305 days\n",
       "5209    Manchester United       11 G. Neville     7305 days\n",
       "14444       Kaizer Chiefs            I. Khune     7489 days\n",
       "229          FC Barcelona             15 Xavi     7854 days\n",
       "9985            São Paulo     14 Rogério Ceni     8036 days\n",
       "16618     Kashima Antlers         H. Sogahata     8401 days\n",
       "1647    Manchester United         14 R. Giggs     8432 days\n",
       "2841                 Roma         17 F. Totti     8766 days"
      ]
     },
     "execution_count": 59,
     "metadata": {},
     "output_type": "execute_result"
    }
   ],
   "source": [
    "# Colocamos os valores 'nan', quem não tem contrato para aparecer primeiro e ordenamos do menor para o maior.\n",
    "# Aqui vemos os 15 jogadores com maior tempo de contrato no jogo.\n",
    "contract.sort_values(by='Contract_days', na_position='first')[-15:]"
   ]
  }
 ],
 "metadata": {
  "@webio": {
   "lastCommId": null,
   "lastKernelId": null
  },
  "kernelspec": {
   "display_name": "Python 3",
   "language": "python",
   "name": "python3"
  },
  "language_info": {
   "codemirror_mode": {
    "name": "ipython",
    "version": 3
   },
   "file_extension": ".py",
   "mimetype": "text/x-python",
   "name": "python",
   "nbconvert_exporter": "python",
   "pygments_lexer": "ipython3",
   "version": "3.8.5"
  }
 },
 "nbformat": 4,
 "nbformat_minor": 4
}
